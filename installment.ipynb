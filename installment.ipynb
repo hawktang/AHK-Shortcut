{
  "nbformat": 4,
  "nbformat_minor": 5,
  "metadata": {
    "kernelspec": {
      "display_name": "transformers",
      "language": "python",
      "name": "transformers"
    },
    "language_info": {
      "codemirror_mode": {
        "name": "ipython",
        "version": 3
      },
      "file_extension": ".py",
      "mimetype": "text/x-python",
      "name": "python",
      "nbconvert_exporter": "python",
      "pygments_lexer": "ipython3",
      "version": "3.9.5"
    },
    "colab": {
      "provenance": [],
      "include_colab_link": true
    }
  },
  "cells": [
    {
      "cell_type": "markdown",
      "metadata": {
        "id": "view-in-github",
        "colab_type": "text"
      },
      "source": [
        "<a href=\"https://colab.research.google.com/github/hawktang/AHK-Shortcut/blob/master/installment.ipynb\" target=\"_parent\"><img src=\"https://colab.research.google.com/assets/colab-badge.svg\" alt=\"Open In Colab\"/></a>"
      ]
    },
    {
      "cell_type": "markdown",
      "metadata": {
        "id": "024ecdc8-8e7f-49b7-858c-a0ee94d9ddc9"
      },
      "source": [
        "# Notation\n",
        "P: principles\n",
        "\n",
        "r: interest rate\n",
        "\n",
        "x: installment\n",
        "\n",
        "n: number of month"
      ],
      "id": "024ecdc8-8e7f-49b7-858c-a0ee94d9ddc9"
    },
    {
      "cell_type": "code",
      "metadata": {
        "execution": {
          "iopub.execute_input": "2021-07-23T10:49:24.046767Z",
          "iopub.status.busy": "2021-07-23T10:49:24.046568Z",
          "iopub.status.idle": "2021-07-23T10:49:24.304205Z",
          "shell.execute_reply": "2021-07-23T10:49:24.303688Z",
          "shell.execute_reply.started": "2021-07-23T10:49:24.046745Z"
        },
        "tags": [],
        "id": "2153c6db-80cb-4fb0-a642-4b9ed684b60a"
      },
      "source": [
        "from sympy import *\n",
        "\n",
        "x, n, i = symbols(\"x,n,i\")\n",
        "P = IndexedBase(\"P\")\n",
        "r = symbols(\"r\", nonzero=True)"
      ],
      "id": "2153c6db-80cb-4fb0-a642-4b9ed684b60a",
      "execution_count": null,
      "outputs": []
    },
    {
      "cell_type": "markdown",
      "metadata": {
        "id": "a0986b78-e03a-462a-ad1e-120322de9825"
      },
      "source": [
        "# Debt future value = Payment future value\n",
        "## The debt must be paid 😂\n",
        "\n",
        "Not sure to call it future value, it is the future value at the mortgage interest rate"
      ],
      "id": "a0986b78-e03a-462a-ad1e-120322de9825"
    },
    {
      "cell_type": "code",
      "metadata": {
        "execution": {
          "iopub.execute_input": "2021-07-23T10:49:24.305278Z",
          "iopub.status.busy": "2021-07-23T10:49:24.305090Z",
          "iopub.status.idle": "2021-07-23T10:49:24.482544Z",
          "shell.execute_reply": "2021-07-23T10:49:24.481996Z",
          "shell.execute_reply.started": "2021-07-23T10:49:24.305258Z"
        },
        "tags": [],
        "colab": {
          "base_uri": "https://localhost:8080/",
          "height": 69
        },
        "id": "0d813c9b-fa96-41aa-8300-09b404b91e84",
        "outputId": "17839aad-af05-4450-c031-a5f1a986f7ab"
      },
      "source": [
        "f = Eq(P[0] * (1 + r) ** (n), x * Sum((1 + r) ** i, (i, 0, n - 1)))\n",
        "f"
      ],
      "id": "0d813c9b-fa96-41aa-8300-09b404b91e84",
      "execution_count": null,
      "outputs": [
        {
          "output_type": "execute_result",
          "data": {
            "text/latex": "$\\displaystyle \\left(r + 1\\right)^{n} {P}_{0} = x \\sum_{i=0}^{n - 1} \\left(r + 1\\right)^{i}$",
            "text/plain": [
              "Eq((r + 1)**n*P[0], x*Sum((r + 1)**i, (i, 0, n - 1)))"
            ]
          },
          "metadata": {
            "tags": []
          },
          "execution_count": 2
        }
      ]
    },
    {
      "cell_type": "markdown",
      "metadata": {
        "id": "xf3Q4d-mLSW_"
      },
      "source": [
        " https://photos.app.goo.gl/UKE3q4hgpSycVYcv8"
      ],
      "id": "xf3Q4d-mLSW_"
    },
    {
      "cell_type": "code",
      "metadata": {
        "id": "kYCEsSTPXP6M"
      },
      "source": [],
      "id": "kYCEsSTPXP6M",
      "execution_count": null,
      "outputs": []
    },
    {
      "cell_type": "markdown",
      "metadata": {
        "execution": {
          "iopub.execute_input": "2021-07-23T07:04:58.668956Z",
          "iopub.status.busy": "2021-07-23T07:04:58.668783Z",
          "iopub.status.idle": "2021-07-23T07:04:58.672289Z",
          "shell.execute_reply": "2021-07-23T07:04:58.671592Z",
          "shell.execute_reply.started": "2021-07-23T07:04:58.668936Z"
        },
        "id": "8c372043-08ff-4282-aaff-90fefe8cd757"
      },
      "source": [
        "# Solve installment\n",
        "can be directly used later"
      ],
      "id": "8c372043-08ff-4282-aaff-90fefe8cd757"
    },
    {
      "cell_type": "code",
      "metadata": {
        "execution": {
          "iopub.execute_input": "2021-07-23T10:49:24.483499Z",
          "iopub.status.busy": "2021-07-23T10:49:24.483319Z",
          "iopub.status.idle": "2021-07-23T10:49:24.517922Z",
          "shell.execute_reply": "2021-07-23T10:49:24.517422Z",
          "shell.execute_reply.started": "2021-07-23T10:49:24.483479Z"
        },
        "tags": [],
        "colab": {
          "base_uri": "https://localhost:8080/",
          "height": 58
        },
        "id": "99673b9c-ea29-400c-ac90-65c96968fc6b",
        "outputId": "0dacf809-17d5-4251-8d47-8bf4c1d55f29"
      },
      "source": [
        "solveset(f, x).doit()"
      ],
      "id": "99673b9c-ea29-400c-ac90-65c96968fc6b",
      "execution_count": null,
      "outputs": [
        {
          "output_type": "execute_result",
          "data": {
            "text/latex": "$\\displaystyle \\left\\{- \\frac{r \\left(r + 1\\right)^{n} {P}_{0}}{1 - \\left(r + 1\\right)^{n}}\\right\\}$",
            "text/plain": [
              "FiniteSet(-r*(r + 1)**n*P[0]/(1 - (r + 1)**n))"
            ]
          },
          "metadata": {
            "tags": []
          },
          "execution_count": 3
        }
      ]
    },
    {
      "cell_type": "code",
      "metadata": {
        "execution": {
          "iopub.execute_input": "2021-07-23T10:49:24.518877Z",
          "iopub.status.busy": "2021-07-23T10:49:24.518710Z",
          "iopub.status.idle": "2021-07-23T10:49:24.521816Z",
          "shell.execute_reply": "2021-07-23T10:49:24.521208Z",
          "shell.execute_reply.started": "2021-07-23T10:49:24.518858Z"
        },
        "tags": [],
        "id": "6db1a7c4-0ee8-47b1-b9ed-8366604f4c40"
      },
      "source": [
        "values = {\n",
        "    n: 24 * 12,\n",
        "    P[0]: 633750,\n",
        "    r: 0.0118 / 12,\n",
        "    P[n]:0\n",
        "}"
      ],
      "id": "6db1a7c4-0ee8-47b1-b9ed-8366604f4c40",
      "execution_count": null,
      "outputs": []
    },
    {
      "cell_type": "markdown",
      "metadata": {
        "id": "f168256d-baad-4be2-a77a-5c76df6dd0e9"
      },
      "source": [
        "# Get the value of installment"
      ],
      "id": "f168256d-baad-4be2-a77a-5c76df6dd0e9"
    },
    {
      "cell_type": "code",
      "metadata": {
        "execution": {
          "iopub.execute_input": "2021-07-23T10:49:24.523725Z",
          "iopub.status.busy": "2021-07-23T10:49:24.523507Z",
          "iopub.status.idle": "2021-07-23T10:49:24.650647Z",
          "shell.execute_reply": "2021-07-23T10:49:24.650119Z",
          "shell.execute_reply.started": "2021-07-23T10:49:24.523706Z"
        },
        "tags": [],
        "colab": {
          "base_uri": "https://localhost:8080/",
          "height": 37
        },
        "id": "c6c7a945-19d6-4a2b-a68a-3643c3043498",
        "outputId": "3fb57ee6-2f39-421b-d84c-e65d7e1665e4"
      },
      "source": [
        "installment = solve(f.subs(values), x)[0]\n",
        "installment"
      ],
      "id": "c6c7a945-19d6-4a2b-a68a-3643c3043498",
      "execution_count": null,
      "outputs": [
        {
          "output_type": "execute_result",
          "data": {
            "text/latex": "$\\displaystyle 2527.87673466562$",
            "text/plain": [
              "2527.87673466562"
            ]
          },
          "metadata": {
            "tags": []
          },
          "execution_count": 5
        }
      ]
    },
    {
      "cell_type": "markdown",
      "metadata": {
        "execution": {
          "iopub.execute_input": "2021-07-23T09:17:49.657708Z",
          "iopub.status.busy": "2021-07-23T09:17:49.657494Z",
          "iopub.status.idle": "2021-07-23T09:17:49.660610Z",
          "shell.execute_reply": "2021-07-23T09:17:49.659929Z",
          "shell.execute_reply.started": "2021-07-23T09:17:49.657685Z"
        },
        "id": "770cff63-4c5e-4031-8de4-ba4b2e422b54"
      },
      "source": [
        "# List of principles"
      ],
      "id": "770cff63-4c5e-4031-8de4-ba4b2e422b54"
    },
    {
      "cell_type": "code",
      "metadata": {
        "execution": {
          "iopub.execute_input": "2021-07-23T10:49:24.651887Z",
          "iopub.status.busy": "2021-07-23T10:49:24.651725Z",
          "iopub.status.idle": "2021-07-23T10:49:24.895843Z",
          "shell.execute_reply": "2021-07-23T10:49:24.895320Z",
          "shell.execute_reply.started": "2021-07-23T10:49:24.651868Z"
        },
        "tags": [],
        "id": "4a708f43-12f2-42b1-8efc-b27422e4604a"
      },
      "source": [
        "import pandas as pd\n",
        "\n",
        "term = 36  # terms what to see\n",
        "df = pd.DataFrame(index=range(term + 1))"
      ],
      "id": "4a708f43-12f2-42b1-8efc-b27422e4604a",
      "execution_count": null,
      "outputs": []
    },
    {
      "cell_type": "code",
      "metadata": {
        "execution": {
          "iopub.execute_input": "2021-07-23T10:49:24.896865Z",
          "iopub.status.busy": "2021-07-23T10:49:24.896699Z",
          "iopub.status.idle": "2021-07-23T10:49:24.901932Z",
          "shell.execute_reply": "2021-07-23T10:49:24.901302Z",
          "shell.execute_reply.started": "2021-07-23T10:49:24.896845Z"
        },
        "tags": [],
        "id": "40bc2fd0-36fc-4b14-ad42-951da51b916d"
      },
      "source": [
        "df.loc[0, \"fv\"] = -P[0].subs(values)"
      ],
      "id": "40bc2fd0-36fc-4b14-ad42-951da51b916d",
      "execution_count": null,
      "outputs": []
    },
    {
      "cell_type": "code",
      "metadata": {
        "execution": {
          "iopub.execute_input": "2021-07-23T10:49:24.902923Z",
          "iopub.status.busy": "2021-07-23T10:49:24.902742Z",
          "iopub.status.idle": "2021-07-23T10:49:24.906030Z",
          "shell.execute_reply": "2021-07-23T10:49:24.905455Z",
          "shell.execute_reply.started": "2021-07-23T10:49:24.902904Z"
        },
        "tags": [],
        "id": "3eacaf16-2c93-4fc9-aa5b-3a6fbfc30de8"
      },
      "source": [
        "df[\"installment\"] = -installment"
      ],
      "id": "3eacaf16-2c93-4fc9-aa5b-3a6fbfc30de8",
      "execution_count": null,
      "outputs": []
    },
    {
      "cell_type": "code",
      "metadata": {
        "execution": {
          "iopub.execute_input": "2021-07-23T10:49:24.907026Z",
          "iopub.status.busy": "2021-07-23T10:49:24.906865Z",
          "iopub.status.idle": "2021-07-23T10:49:24.932512Z",
          "shell.execute_reply": "2021-07-23T10:49:24.931980Z",
          "shell.execute_reply.started": "2021-07-23T10:49:24.907008Z"
        },
        "tags": [],
        "id": "03a20b6d-8b6a-42c1-b92c-645f90a6c720"
      },
      "source": [
        "df.loc[0, \"fv\"] = -P[0].subs(values)\n",
        "for i in range(1, term + 1):\n",
        "    df.loc[i, \"fv\"] = df.loc[i - 1, \"fv\"] * (1 + r.subs(values)) + installment"
      ],
      "id": "03a20b6d-8b6a-42c1-b92c-645f90a6c720",
      "execution_count": null,
      "outputs": []
    },
    {
      "cell_type": "markdown",
      "metadata": {
        "id": "59300a11-0abe-4455-b253-08a06fd26884"
      },
      "source": [
        "## Interest must be paid first 🤣"
      ],
      "id": "59300a11-0abe-4455-b253-08a06fd26884"
    },
    {
      "cell_type": "code",
      "metadata": {
        "execution": {
          "iopub.execute_input": "2021-07-23T10:49:24.933433Z",
          "iopub.status.busy": "2021-07-23T10:49:24.933254Z",
          "iopub.status.idle": "2021-07-23T10:49:24.941790Z",
          "shell.execute_reply": "2021-07-23T10:49:24.941133Z",
          "shell.execute_reply.started": "2021-07-23T10:49:24.933414Z"
        },
        "tags": [],
        "id": "b8ec7e4c-b622-4105-a66f-25feeb966520"
      },
      "source": [
        "df[\"interest_part\"] = df.fv.shift(1) * (r.subs(values))"
      ],
      "id": "b8ec7e4c-b622-4105-a66f-25feeb966520",
      "execution_count": null,
      "outputs": []
    },
    {
      "cell_type": "code",
      "metadata": {
        "execution": {
          "iopub.execute_input": "2021-07-23T10:49:24.942821Z",
          "iopub.status.busy": "2021-07-23T10:49:24.942660Z",
          "iopub.status.idle": "2021-07-23T10:49:24.946523Z",
          "shell.execute_reply": "2021-07-23T10:49:24.945908Z",
          "shell.execute_reply.started": "2021-07-23T10:49:24.942802Z"
        },
        "tags": [],
        "id": "0cf4f8dd-5fe9-4ee8-9808-03917d0c33fe"
      },
      "source": [
        "df[\"percipal_part\"] = -installment - df[\"interest_part\"]"
      ],
      "id": "0cf4f8dd-5fe9-4ee8-9808-03917d0c33fe",
      "execution_count": null,
      "outputs": []
    },
    {
      "cell_type": "code",
      "metadata": {
        "execution": {
          "iopub.execute_input": "2021-07-23T10:49:24.947519Z",
          "iopub.status.busy": "2021-07-23T10:49:24.947340Z",
          "iopub.status.idle": "2021-07-23T10:49:24.952469Z",
          "shell.execute_reply": "2021-07-23T10:49:24.951525Z",
          "shell.execute_reply.started": "2021-07-23T10:49:24.947499Z"
        },
        "tags": [],
        "id": "20c7075a-1ca7-40a2-9427-2075f29551c8"
      },
      "source": [
        "df[\"real_installment\"] = -round(installment, 2)"
      ],
      "id": "20c7075a-1ca7-40a2-9427-2075f29551c8",
      "execution_count": null,
      "outputs": []
    },
    {
      "cell_type": "code",
      "metadata": {
        "execution": {
          "iopub.execute_input": "2021-07-23T10:49:24.953455Z",
          "iopub.status.busy": "2021-07-23T10:49:24.953294Z",
          "iopub.status.idle": "2021-07-23T10:49:25.017909Z",
          "shell.execute_reply": "2021-07-23T10:49:25.017374Z",
          "shell.execute_reply.started": "2021-07-23T10:49:24.953436Z"
        },
        "tags": [],
        "id": "8b640387-9490-4955-91f3-240d6d7e9837"
      },
      "source": [
        "df.loc[0, \"fv_with_real_installment\"] = -P[0].subs(values)\n",
        "for i in range(1, term + 1):\n",
        "    df.loc[i, \"fv_with_real_installment\"] = df.loc[\n",
        "        i - 1, \"fv_with_real_installment\"\n",
        "    ] * (1 + r.subs(values)) + round(installment, 2)"
      ],
      "id": "8b640387-9490-4955-91f3-240d6d7e9837",
      "execution_count": null,
      "outputs": []
    },
    {
      "cell_type": "code",
      "metadata": {
        "execution": {
          "iopub.execute_input": "2021-07-23T10:49:25.018901Z",
          "iopub.status.busy": "2021-07-23T10:49:25.018741Z",
          "iopub.status.idle": "2021-07-23T10:49:25.042094Z",
          "shell.execute_reply": "2021-07-23T10:49:25.041618Z",
          "shell.execute_reply.started": "2021-07-23T10:49:25.018882Z"
        },
        "tags": [],
        "colab": {
          "base_uri": "https://localhost:8080/",
          "height": 1000
        },
        "id": "d3fe95ff-2d4d-417b-b97e-e8d5928451e5",
        "outputId": "ebcac278-a8f9-4a34-840d-e87c08318cd2"
      },
      "source": [
        "df"
      ],
      "id": "d3fe95ff-2d4d-417b-b97e-e8d5928451e5",
      "execution_count": null,
      "outputs": [
        {
          "output_type": "execute_result",
          "data": {
            "text/html": [
              "<div>\n",
              "<style scoped>\n",
              "    .dataframe tbody tr th:only-of-type {\n",
              "        vertical-align: middle;\n",
              "    }\n",
              "\n",
              "    .dataframe tbody tr th {\n",
              "        vertical-align: top;\n",
              "    }\n",
              "\n",
              "    .dataframe thead th {\n",
              "        text-align: right;\n",
              "    }\n",
              "</style>\n",
              "<table border=\"1\" class=\"dataframe\">\n",
              "  <thead>\n",
              "    <tr style=\"text-align: right;\">\n",
              "      <th></th>\n",
              "      <th>fv</th>\n",
              "      <th>installment</th>\n",
              "      <th>interest_part</th>\n",
              "      <th>percipal_part</th>\n",
              "      <th>real_installment</th>\n",
              "      <th>fv_with_real_installment</th>\n",
              "    </tr>\n",
              "  </thead>\n",
              "  <tbody>\n",
              "    <tr>\n",
              "      <th>0</th>\n",
              "      <td>-633750</td>\n",
              "      <td>-2527.87673466562</td>\n",
              "      <td>nan</td>\n",
              "      <td>nan</td>\n",
              "      <td>-2527.88</td>\n",
              "      <td>-633750</td>\n",
              "    </tr>\n",
              "    <tr>\n",
              "      <th>1</th>\n",
              "      <td>-631845.310765334</td>\n",
              "      <td>-2527.87673466562</td>\n",
              "      <td>-623.187500000000</td>\n",
              "      <td>-1904.68923466562</td>\n",
              "      <td>-2527.88</td>\n",
              "      <td>-631845.307617188</td>\n",
              "    </tr>\n",
              "    <tr>\n",
              "      <th>2</th>\n",
              "      <td>-629938.748586255</td>\n",
              "      <td>-2527.87673466562</td>\n",
              "      <td>-621.314555585912</td>\n",
              "      <td>-1906.56217907971</td>\n",
              "      <td>-2527.88</td>\n",
              "      <td>-629938.742286865</td>\n",
              "    </tr>\n",
              "    <tr>\n",
              "      <th>3</th>\n",
              "      <td>-628030.311621032</td>\n",
              "      <td>-2527.87673466562</td>\n",
              "      <td>-619.439769443150</td>\n",
              "      <td>-1908.43696522247</td>\n",
              "      <td>-2527.88</td>\n",
              "      <td>-628030.302167302</td>\n",
              "    </tr>\n",
              "    <tr>\n",
              "      <th>4</th>\n",
              "      <td>-626119.998026127</td>\n",
              "      <td>-2527.87673466562</td>\n",
              "      <td>-617.563139760682</td>\n",
              "      <td>-1910.31359490494</td>\n",
              "      <td>-2527.88</td>\n",
              "      <td>-626119.985414954</td>\n",
              "    </tr>\n",
              "    <tr>\n",
              "      <th>5</th>\n",
              "      <td>-624207.805956187</td>\n",
              "      <td>-2527.87673466562</td>\n",
              "      <td>-615.684664725692</td>\n",
              "      <td>-1912.19206993993</td>\n",
              "      <td>-2527.88</td>\n",
              "      <td>-624207.790184466</td>\n",
              "    </tr>\n",
              "    <tr>\n",
              "      <th>6</th>\n",
              "      <td>-622293.733564045</td>\n",
              "      <td>-2527.87673466562</td>\n",
              "      <td>-613.804342523584</td>\n",
              "      <td>-1914.07239214204</td>\n",
              "      <td>-2527.88</td>\n",
              "      <td>-622293.714628668</td>\n",
              "    </tr>\n",
              "    <tr>\n",
              "      <th>7</th>\n",
              "      <td>-620377.779000718</td>\n",
              "      <td>-2527.87673466562</td>\n",
              "      <td>-611.922171337978</td>\n",
              "      <td>-1915.95456332764</td>\n",
              "      <td>-2527.88</td>\n",
              "      <td>-620377.756898574</td>\n",
              "    </tr>\n",
              "    <tr>\n",
              "      <th>8</th>\n",
              "      <td>-618459.940415403</td>\n",
              "      <td>-2527.87673466562</td>\n",
              "      <td>-610.038149350706</td>\n",
              "      <td>-1917.83858531492</td>\n",
              "      <td>-2527.88</td>\n",
              "      <td>-618459.915143378</td>\n",
              "    </tr>\n",
              "    <tr>\n",
              "      <th>9</th>\n",
              "      <td>-616540.215955479</td>\n",
              "      <td>-2527.87673466562</td>\n",
              "      <td>-608.152274741813</td>\n",
              "      <td>-1919.72445992381</td>\n",
              "      <td>-2527.88</td>\n",
              "      <td>-616540.187510457</td>\n",
              "    </tr>\n",
              "    <tr>\n",
              "      <th>10</th>\n",
              "      <td>-614618.603766503</td>\n",
              "      <td>-2527.87673466562</td>\n",
              "      <td>-606.264545689554</td>\n",
              "      <td>-1921.61218897607</td>\n",
              "      <td>-2527.88</td>\n",
              "      <td>-614618.572145363</td>\n",
              "    </tr>\n",
              "    <tr>\n",
              "      <th>11</th>\n",
              "      <td>-612695.101992208</td>\n",
              "      <td>-2527.87673466562</td>\n",
              "      <td>-604.374960370395</td>\n",
              "      <td>-1923.50177429523</td>\n",
              "      <td>-2527.88</td>\n",
              "      <td>-612695.067191826</td>\n",
              "    </tr>\n",
              "    <tr>\n",
              "      <th>12</th>\n",
              "      <td>-610769.708774501</td>\n",
              "      <td>-2527.87673466562</td>\n",
              "      <td>-602.483516959004</td>\n",
              "      <td>-1925.39321770662</td>\n",
              "      <td>-2527.88</td>\n",
              "      <td>-610769.670791753</td>\n",
              "    </tr>\n",
              "    <tr>\n",
              "      <th>13</th>\n",
              "      <td>-608842.422253464</td>\n",
              "      <td>-2527.87673466562</td>\n",
              "      <td>-600.590213628259</td>\n",
              "      <td>-1927.28652103736</td>\n",
              "      <td>-2527.88</td>\n",
              "      <td>-608842.381085219</td>\n",
              "    </tr>\n",
              "    <tr>\n",
              "      <th>14</th>\n",
              "      <td>-606913.240567348</td>\n",
              "      <td>-2527.87673466562</td>\n",
              "      <td>-598.695048549239</td>\n",
              "      <td>-1929.18168611638</td>\n",
              "      <td>-2527.88</td>\n",
              "      <td>-606913.196210473</td>\n",
              "    </tr>\n",
              "    <tr>\n",
              "      <th>15</th>\n",
              "      <td>-604982.161852573</td>\n",
              "      <td>-2527.87673466562</td>\n",
              "      <td>-596.798019891225</td>\n",
              "      <td>-1931.07871477440</td>\n",
              "      <td>-2527.88</td>\n",
              "      <td>-604982.114303934</td>\n",
              "    </tr>\n",
              "    <tr>\n",
              "      <th>16</th>\n",
              "      <td>-603049.184243729</td>\n",
              "      <td>-2527.87673466562</td>\n",
              "      <td>-594.899125821697</td>\n",
              "      <td>-1932.97760884392</td>\n",
              "      <td>-2527.88</td>\n",
              "      <td>-603049.133500187</td>\n",
              "    </tr>\n",
              "    <tr>\n",
              "      <th>17</th>\n",
              "      <td>-601114.305873570</td>\n",
              "      <td>-2527.87673466562</td>\n",
              "      <td>-592.998364506334</td>\n",
              "      <td>-1934.87837015929</td>\n",
              "      <td>-2527.88</td>\n",
              "      <td>-601114.251931983</td>\n",
              "    </tr>\n",
              "    <tr>\n",
              "      <th>18</th>\n",
              "      <td>-599177.524873013</td>\n",
              "      <td>-2527.87673466562</td>\n",
              "      <td>-591.095734109010</td>\n",
              "      <td>-1936.78100055661</td>\n",
              "      <td>-2527.88</td>\n",
              "      <td>-599177.467730237</td>\n",
              "    </tr>\n",
              "    <tr>\n",
              "      <th>19</th>\n",
              "      <td>-597238.839371140</td>\n",
              "      <td>-2527.87673466562</td>\n",
              "      <td>-589.191232791796</td>\n",
              "      <td>-1938.68550187382</td>\n",
              "      <td>-2527.88</td>\n",
              "      <td>-597238.779024026</td>\n",
              "    </tr>\n",
              "    <tr>\n",
              "      <th>20</th>\n",
              "      <td>-595298.247495189</td>\n",
              "      <td>-2527.87673466562</td>\n",
              "      <td>-587.284858714954</td>\n",
              "      <td>-1940.59187595067</td>\n",
              "      <td>-2527.88</td>\n",
              "      <td>-595298.183940587</td>\n",
              "    </tr>\n",
              "    <tr>\n",
              "      <th>21</th>\n",
              "      <td>-593355.747370560</td>\n",
              "      <td>-2527.87673466562</td>\n",
              "      <td>-585.376610036936</td>\n",
              "      <td>-1942.50012462869</td>\n",
              "      <td>-2527.88</td>\n",
              "      <td>-593355.680605317</td>\n",
              "    </tr>\n",
              "    <tr>\n",
              "      <th>22</th>\n",
              "      <td>-591411.337120809</td>\n",
              "      <td>-2527.87673466562</td>\n",
              "      <td>-583.466484914384</td>\n",
              "      <td>-1944.41024975124</td>\n",
              "      <td>-2527.88</td>\n",
              "      <td>-591411.267141766</td>\n",
              "    </tr>\n",
              "    <tr>\n",
              "      <th>23</th>\n",
              "      <td>-589465.014867646</td>\n",
              "      <td>-2527.87673466562</td>\n",
              "      <td>-581.554481502129</td>\n",
              "      <td>-1946.32225316349</td>\n",
              "      <td>-2527.88</td>\n",
              "      <td>-589464.941671643</td>\n",
              "    </tr>\n",
              "    <tr>\n",
              "      <th>24</th>\n",
              "      <td>-587516.778730933</td>\n",
              "      <td>-2527.87673466562</td>\n",
              "      <td>-579.640597953185</td>\n",
              "      <td>-1948.23613671244</td>\n",
              "      <td>-2527.88</td>\n",
              "      <td>-587516.702314807</td>\n",
              "    </tr>\n",
              "    <tr>\n",
              "      <th>25</th>\n",
              "      <td>-585566.626828686</td>\n",
              "      <td>-2527.87673466562</td>\n",
              "      <td>-577.724832418751</td>\n",
              "      <td>-1950.15190224687</td>\n",
              "      <td>-2527.88</td>\n",
              "      <td>-585566.547189271</td>\n",
              "    </tr>\n",
              "    <tr>\n",
              "      <th>26</th>\n",
              "      <td>-583614.557277069</td>\n",
              "      <td>-2527.87673466562</td>\n",
              "      <td>-575.807183048208</td>\n",
              "      <td>-1952.06955161741</td>\n",
              "      <td>-2527.88</td>\n",
              "      <td>-583614.474411195</td>\n",
              "    </tr>\n",
              "    <tr>\n",
              "      <th>27</th>\n",
              "      <td>-581660.568190392</td>\n",
              "      <td>-2527.87673466562</td>\n",
              "      <td>-573.887647989118</td>\n",
              "      <td>-1953.98908667650</td>\n",
              "      <td>-2527.88</td>\n",
              "      <td>-581660.482094887</td>\n",
              "    </tr>\n",
              "    <tr>\n",
              "      <th>28</th>\n",
              "      <td>-579704.657681114</td>\n",
              "      <td>-2527.87673466562</td>\n",
              "      <td>-571.966225387219</td>\n",
              "      <td>-1955.91050927840</td>\n",
              "      <td>-2527.88</td>\n",
              "      <td>-579704.568352801</td>\n",
              "    </tr>\n",
              "    <tr>\n",
              "      <th>29</th>\n",
              "      <td>-577746.823859835</td>\n",
              "      <td>-2527.87673466562</td>\n",
              "      <td>-570.042913386429</td>\n",
              "      <td>-1957.83382127919</td>\n",
              "      <td>-2527.88</td>\n",
              "      <td>-577746.731295535</td>\n",
              "    </tr>\n",
              "    <tr>\n",
              "      <th>30</th>\n",
              "      <td>-575787.064835298</td>\n",
              "      <td>-2527.87673466562</td>\n",
              "      <td>-568.117710128838</td>\n",
              "      <td>-1959.75902453678</td>\n",
              "      <td>-2527.88</td>\n",
              "      <td>-575786.969031830</td>\n",
              "    </tr>\n",
              "    <tr>\n",
              "      <th>31</th>\n",
              "      <td>-573825.378714387</td>\n",
              "      <td>-2527.87673466562</td>\n",
              "      <td>-566.190613754710</td>\n",
              "      <td>-1961.68612091091</td>\n",
              "      <td>-2527.88</td>\n",
              "      <td>-573825.279668565</td>\n",
              "    </tr>\n",
              "    <tr>\n",
              "      <th>32</th>\n",
              "      <td>-571861.763602124</td>\n",
              "      <td>-2527.87673466562</td>\n",
              "      <td>-564.261622402481</td>\n",
              "      <td>-1963.61511226314</td>\n",
              "      <td>-2527.88</td>\n",
              "      <td>-571861.661310760</td>\n",
              "    </tr>\n",
              "    <tr>\n",
              "      <th>33</th>\n",
              "      <td>-569896.217601667</td>\n",
              "      <td>-2527.87673466562</td>\n",
              "      <td>-562.330734208755</td>\n",
              "      <td>-1965.54600045687</td>\n",
              "      <td>-2527.88</td>\n",
              "      <td>-569896.112061570</td>\n",
              "    </tr>\n",
              "    <tr>\n",
              "      <th>34</th>\n",
              "      <td>-567928.738814310</td>\n",
              "      <td>-2527.87673466562</td>\n",
              "      <td>-560.397947308306</td>\n",
              "      <td>-1967.47878735732</td>\n",
              "      <td>-2527.88</td>\n",
              "      <td>-567928.630022285</td>\n",
              "    </tr>\n",
              "    <tr>\n",
              "      <th>35</th>\n",
              "      <td>-565959.325339479</td>\n",
              "      <td>-2527.87673466562</td>\n",
              "      <td>-558.463259834072</td>\n",
              "      <td>-1969.41347483155</td>\n",
              "      <td>-2527.88</td>\n",
              "      <td>-565959.213292328</td>\n",
              "    </tr>\n",
              "    <tr>\n",
              "      <th>36</th>\n",
              "      <td>-563987.975274730</td>\n",
              "      <td>-2527.87673466562</td>\n",
              "      <td>-556.526669917154</td>\n",
              "      <td>-1971.35006474847</td>\n",
              "      <td>-2527.88</td>\n",
              "      <td>-563987.859969253</td>\n",
              "    </tr>\n",
              "  </tbody>\n",
              "</table>\n",
              "</div>"
            ],
            "text/plain": [
              "                   fv  ... fv_with_real_installment\n",
              "0             -633750  ...                  -633750\n",
              "1   -631845.310765334  ...        -631845.307617188\n",
              "2   -629938.748586255  ...        -629938.742286865\n",
              "3   -628030.311621032  ...        -628030.302167302\n",
              "4   -626119.998026127  ...        -626119.985414954\n",
              "5   -624207.805956187  ...        -624207.790184466\n",
              "6   -622293.733564045  ...        -622293.714628668\n",
              "7   -620377.779000718  ...        -620377.756898574\n",
              "8   -618459.940415403  ...        -618459.915143378\n",
              "9   -616540.215955479  ...        -616540.187510457\n",
              "10  -614618.603766503  ...        -614618.572145363\n",
              "11  -612695.101992208  ...        -612695.067191826\n",
              "12  -610769.708774501  ...        -610769.670791753\n",
              "13  -608842.422253464  ...        -608842.381085219\n",
              "14  -606913.240567348  ...        -606913.196210473\n",
              "15  -604982.161852573  ...        -604982.114303934\n",
              "16  -603049.184243729  ...        -603049.133500187\n",
              "17  -601114.305873570  ...        -601114.251931983\n",
              "18  -599177.524873013  ...        -599177.467730237\n",
              "19  -597238.839371140  ...        -597238.779024026\n",
              "20  -595298.247495189  ...        -595298.183940587\n",
              "21  -593355.747370560  ...        -593355.680605317\n",
              "22  -591411.337120809  ...        -591411.267141766\n",
              "23  -589465.014867646  ...        -589464.941671643\n",
              "24  -587516.778730933  ...        -587516.702314807\n",
              "25  -585566.626828686  ...        -585566.547189271\n",
              "26  -583614.557277069  ...        -583614.474411195\n",
              "27  -581660.568190392  ...        -581660.482094887\n",
              "28  -579704.657681114  ...        -579704.568352801\n",
              "29  -577746.823859835  ...        -577746.731295535\n",
              "30  -575787.064835298  ...        -575786.969031830\n",
              "31  -573825.378714387  ...        -573825.279668565\n",
              "32  -571861.763602124  ...        -571861.661310760\n",
              "33  -569896.217601667  ...        -569896.112061570\n",
              "34  -567928.738814310  ...        -567928.630022285\n",
              "35  -565959.325339479  ...        -565959.213292328\n",
              "36  -563987.975274730  ...        -563987.859969253\n",
              "\n",
              "[37 rows x 6 columns]"
            ]
          },
          "metadata": {
            "tags": []
          },
          "execution_count": 14
        }
      ]
    },
    {
      "cell_type": "markdown",
      "metadata": {
        "id": "cb5b283d-8df7-4d46-8019-47eac327fc09"
      },
      "source": [
        "# By package mortgage\n",
        "with even more digit"
      ],
      "id": "cb5b283d-8df7-4d46-8019-47eac327fc09"
    },
    {
      "cell_type": "code",
      "metadata": {
        "colab": {
          "base_uri": "https://localhost:8080/"
        },
        "id": "Z984f5J5_1NY",
        "outputId": "b0c45b97-96df-49c3-c402-bafba06c5c39"
      },
      "source": [
        "!pip install mortgage"
      ],
      "id": "Z984f5J5_1NY",
      "execution_count": null,
      "outputs": [
        {
          "output_type": "stream",
          "text": [
            "Collecting mortgage\n",
            "  Downloading mortgage-1.0.5-py3-none-any.whl (6.5 kB)\n",
            "Installing collected packages: mortgage\n",
            "Successfully installed mortgage-1.0.5\n"
          ],
          "name": "stdout"
        }
      ]
    },
    {
      "cell_type": "code",
      "metadata": {
        "execution": {
          "iopub.execute_input": "2021-07-23T10:49:25.043056Z",
          "iopub.status.busy": "2021-07-23T10:49:25.042895Z",
          "iopub.status.idle": "2021-07-23T10:49:25.060736Z",
          "shell.execute_reply": "2021-07-23T10:49:25.060256Z",
          "shell.execute_reply.started": "2021-07-23T10:49:25.043037Z"
        },
        "tags": [],
        "colab": {
          "base_uri": "https://localhost:8080/",
          "height": 1000
        },
        "id": "b1436d09-a851-4f7a-bba9-b4471d676a44",
        "outputId": "04175b65-08ef-4487-e437-5794d1ca1c8e"
      },
      "source": [
        "from mortgage import Loan\n",
        "\n",
        "loan = Loan(principal=633750, interest=0.0118, term=24)\n",
        "pd.DataFrame(loan.schedule()).loc[:36]"
      ],
      "id": "b1436d09-a851-4f7a-bba9-b4471d676a44",
      "execution_count": null,
      "outputs": [
        {
          "output_type": "execute_result",
          "data": {
            "text/html": [
              "<div>\n",
              "<style scoped>\n",
              "    .dataframe tbody tr th:only-of-type {\n",
              "        vertical-align: middle;\n",
              "    }\n",
              "\n",
              "    .dataframe tbody tr th {\n",
              "        vertical-align: top;\n",
              "    }\n",
              "\n",
              "    .dataframe thead th {\n",
              "        text-align: right;\n",
              "    }\n",
              "</style>\n",
              "<table border=\"1\" class=\"dataframe\">\n",
              "  <thead>\n",
              "    <tr style=\"text-align: right;\">\n",
              "      <th></th>\n",
              "      <th>number</th>\n",
              "      <th>payment</th>\n",
              "      <th>interest</th>\n",
              "      <th>principal</th>\n",
              "      <th>total_interest</th>\n",
              "      <th>balance</th>\n",
              "    </tr>\n",
              "  </thead>\n",
              "  <tbody>\n",
              "    <tr>\n",
              "      <th>0</th>\n",
              "      <td>0</td>\n",
              "      <td>0</td>\n",
              "      <td>0</td>\n",
              "      <td>0</td>\n",
              "      <td>0</td>\n",
              "      <td>633750</td>\n",
              "    </tr>\n",
              "    <tr>\n",
              "      <th>1</th>\n",
              "      <td>1</td>\n",
              "      <td>2527.876734664354986186824562</td>\n",
              "      <td>623.1874999999999671651540456</td>\n",
              "      <td>1904.689234664355019021670516</td>\n",
              "      <td>623.1874999999999671651540456</td>\n",
              "      <td>631845.3107653356449809783295</td>\n",
              "    </tr>\n",
              "    <tr>\n",
              "      <th>2</th>\n",
              "      <td>2</td>\n",
              "      <td>2527.876734664354986186824562</td>\n",
              "      <td>621.3145555859133514951321275</td>\n",
              "      <td>1906.562179078441634691692434</td>\n",
              "      <td>1244.502055585913318660286173</td>\n",
              "      <td>629938.7485862572033462866371</td>\n",
              "    </tr>\n",
              "    <tr>\n",
              "      <th>3</th>\n",
              "      <td>3</td>\n",
              "      <td>2527.876734664354986186824562</td>\n",
              "      <td>619.4397694431528839864650610</td>\n",
              "      <td>1908.436965221202102200359501</td>\n",
              "      <td>1863.941825029066202646751234</td>\n",
              "      <td>628030.3116210360012440862776</td>\n",
              "    </tr>\n",
              "    <tr>\n",
              "      <th>4</th>\n",
              "      <td>4</td>\n",
              "      <td>2527.876734664354986186824562</td>\n",
              "      <td>617.5631397606853686848449361</td>\n",
              "      <td>1910.313594903669617501979626</td>\n",
              "      <td>2481.504964789751571331596170</td>\n",
              "      <td>626119.9980261323316265842980</td>\n",
              "    </tr>\n",
              "    <tr>\n",
              "      <th>5</th>\n",
              "      <td>5</td>\n",
              "      <td>2527.876734664354986186824562</td>\n",
              "      <td>615.6846647256967603266087818</td>\n",
              "      <td>1912.192069938658225860215780</td>\n",
              "      <td>3097.189629515448331658204952</td>\n",
              "      <td>624207.8059561936734007240822</td>\n",
              "    </tr>\n",
              "    <tr>\n",
              "      <th>6</th>\n",
              "      <td>6</td>\n",
              "      <td>2527.876734664354986186824562</td>\n",
              "      <td>613.8043425235904131702510201</td>\n",
              "      <td>1914.072392140764573016573542</td>\n",
              "      <td>3710.993972039038744828455972</td>\n",
              "      <td>622293.7335640529088277075087</td>\n",
              "    </tr>\n",
              "    <tr>\n",
              "      <th>7</th>\n",
              "      <td>7</td>\n",
              "      <td>2527.876734664354986186824562</td>\n",
              "      <td>611.9221713379853281059535940</td>\n",
              "      <td>1915.954563326369658080870968</td>\n",
              "      <td>4322.916143377024072934409566</td>\n",
              "      <td>620377.7790007265391696266377</td>\n",
              "    </tr>\n",
              "    <tr>\n",
              "      <th>8</th>\n",
              "      <td>8</td>\n",
              "      <td>2527.876734664354986186824562</td>\n",
              "      <td>610.0381493507143980414404554</td>\n",
              "      <td>1917.838585313640588145384107</td>\n",
              "      <td>4932.954292727738470975850021</td>\n",
              "      <td>618459.9404154128985814812536</td>\n",
              "    </tr>\n",
              "    <tr>\n",
              "      <th>9</th>\n",
              "      <td>9</td>\n",
              "      <td>2527.876734664354986186824562</td>\n",
              "      <td>608.1522747418226515624614936</td>\n",
              "      <td>1919.724459922532334624363068</td>\n",
              "      <td>5541.106567469561122538311515</td>\n",
              "      <td>616540.2159554903662468568905</td>\n",
              "    </tr>\n",
              "    <tr>\n",
              "      <th>10</th>\n",
              "      <td>10</td>\n",
              "      <td>2527.876734664354986186824562</td>\n",
              "      <td>606.2645456895654948662092425</td>\n",
              "      <td>1921.612188974789491320615320</td>\n",
              "      <td>6147.371113159126617404520758</td>\n",
              "      <td>614618.6037665155767555362752</td>\n",
              "    </tr>\n",
              "    <tr>\n",
              "      <th>11</th>\n",
              "      <td>11</td>\n",
              "      <td>2527.876734664354986186824562</td>\n",
              "      <td>604.3749603704069519659701471</td>\n",
              "      <td>1923.501774293948034220854415</td>\n",
              "      <td>6751.746073529533569370490905</td>\n",
              "      <td>612695.1019922216287213154208</td>\n",
              "    </tr>\n",
              "    <tr>\n",
              "      <th>12</th>\n",
              "      <td>12</td>\n",
              "      <td>2527.876734664354986186824562</td>\n",
              "      <td>602.4835169590179031653103849</td>\n",
              "      <td>1925.393217705337083021514177</td>\n",
              "      <td>7354.229590488551472535801290</td>\n",
              "      <td>610769.7087745162916382939066</td>\n",
              "    </tr>\n",
              "    <tr>\n",
              "      <th>13</th>\n",
              "      <td>13</td>\n",
              "      <td>2527.876734664354986186824562</td>\n",
              "      <td>600.5902136282743218000946358</td>\n",
              "      <td>1927.286521036080664386729926</td>\n",
              "      <td>7954.819804116825794335895926</td>\n",
              "      <td>608842.4222534802109739071767</td>\n",
              "    </tr>\n",
              "    <tr>\n",
              "      <th>14</th>\n",
              "      <td>14</td>\n",
              "      <td>2527.876734664354986186824562</td>\n",
              "      <td>598.6950485492555092466345174</td>\n",
              "      <td>1929.181686115099476940190045</td>\n",
              "      <td>8553.514852666081303582530443</td>\n",
              "      <td>606913.2405673651114969669867</td>\n",
              "    </tr>\n",
              "    <tr>\n",
              "      <th>15</th>\n",
              "      <td>15</td>\n",
              "      <td>2527.876734664354986186824562</td>\n",
              "      <td>596.7980198912423281942616876</td>\n",
              "      <td>1931.078714773112657992562874</td>\n",
              "      <td>9150.312872557323631776792131</td>\n",
              "      <td>604982.1618525919988389744238</td>\n",
              "    </tr>\n",
              "    <tr>\n",
              "      <th>16</th>\n",
              "      <td>16</td>\n",
              "      <td>2527.876734664354986186824562</td>\n",
              "      <td>594.8991258217154341806189753</td>\n",
              "      <td>1932.977608842639552006205587</td>\n",
              "      <td>9745.211998379039065957411106</td>\n",
              "      <td>603049.1842437493592869682182</td>\n",
              "    </tr>\n",
              "    <tr>\n",
              "      <th>17</th>\n",
              "      <td>17</td>\n",
              "      <td>2527.876734664354986186824562</td>\n",
              "      <td>592.9983645063535053879612305</td>\n",
              "      <td>1934.878370158001480798863332</td>\n",
              "      <td>10338.21036288539257134537234</td>\n",
              "      <td>601114.3058735913578061693549</td>\n",
              "    </tr>\n",
              "    <tr>\n",
              "      <th>18</th>\n",
              "      <td>18</td>\n",
              "      <td>2527.876734664354986186824562</td>\n",
              "      <td>591.0957341090314706987558507</td>\n",
              "      <td>1936.781000555323515488068711</td>\n",
              "      <td>10929.30609699442404204412819</td>\n",
              "      <td>599177.5248730360342906812862</td>\n",
              "    </tr>\n",
              "    <tr>\n",
              "      <th>19</th>\n",
              "      <td>19</td>\n",
              "      <td>2527.876734664354986186824562</td>\n",
              "      <td>589.1912327918187360088713286</td>\n",
              "      <td>1938.685501872536250177953233</td>\n",
              "      <td>11518.49732978624277805299952</td>\n",
              "      <td>597238.8393711634980405033330</td>\n",
              "    </tr>\n",
              "    <tr>\n",
              "      <th>20</th>\n",
              "      <td>20</td>\n",
              "      <td>2527.876734664354986186824562</td>\n",
              "      <td>587.2848587149774087966404271</td>\n",
              "      <td>1940.591875949377577390184135</td>\n",
              "      <td>12105.78218850122018684963995</td>\n",
              "      <td>595298.2474952141204631131489</td>\n",
              "    </tr>\n",
              "    <tr>\n",
              "      <th>21</th>\n",
              "      <td>21</td>\n",
              "      <td>2527.876734664354986186824562</td>\n",
              "      <td>585.3766100369605209460829348</td>\n",
              "      <td>1942.500124627394465240741627</td>\n",
              "      <td>12691.15879853818070779572288</td>\n",
              "      <td>593355.7473705867259978724073</td>\n",
              "    </tr>\n",
              "    <tr>\n",
              "      <th>22</th>\n",
              "      <td>22</td>\n",
              "      <td>2527.876734664354986186824562</td>\n",
              "      <td>583.4664849144102498225712617</td>\n",
              "      <td>1944.410249749944736364253300</td>\n",
              "      <td>13274.62528345259095761829414</td>\n",
              "      <td>591411.3371208367812615081540</td>\n",
              "    </tr>\n",
              "    <tr>\n",
              "      <th>23</th>\n",
              "      <td>23</td>\n",
              "      <td>2527.876734664354986186824562</td>\n",
              "      <td>581.5544815021561375992204340</td>\n",
              "      <td>1946.322253162198848587604128</td>\n",
              "      <td>13856.17976495474709521751457</td>\n",
              "      <td>589465.0148676745824129205499</td>\n",
              "    </tr>\n",
              "    <tr>\n",
              "      <th>24</th>\n",
              "      <td>24</td>\n",
              "      <td>2527.876734664354986186824562</td>\n",
              "      <td>579.6405979532133088322823713</td>\n",
              "      <td>1948.236136711141677354542191</td>\n",
              "      <td>14435.82036290796040404979694</td>\n",
              "      <td>587516.7787309634407355660077</td>\n",
              "    </tr>\n",
              "    <tr>\n",
              "      <th>25</th>\n",
              "      <td>25</td>\n",
              "      <td>2527.876734664354986186824562</td>\n",
              "      <td>577.7248324187806862838226458</td>\n",
              "      <td>1950.151902245574299903001916</td>\n",
              "      <td>15013.54519532674109033361959</td>\n",
              "      <td>585566.6268287178664356630058</td>\n",
              "    </tr>\n",
              "    <tr>\n",
              "      <th>26</th>\n",
              "      <td>26</td>\n",
              "      <td>2527.876734664354986186824562</td>\n",
              "      <td>575.8071830482392049899561922</td>\n",
              "      <td>1952.069551616115781196868370</td>\n",
              "      <td>15589.35237837498029532357578</td>\n",
              "      <td>583614.5572771017506544661374</td>\n",
              "    </tr>\n",
              "    <tr>\n",
              "      <th>27</th>\n",
              "      <td>27</td>\n",
              "      <td>2527.876734664354986186824562</td>\n",
              "      <td>573.8876479891500245729167898</td>\n",
              "      <td>1953.989086675204961613907772</td>\n",
              "      <td>16163.24002636413031989649257</td>\n",
              "      <td>581660.5681904265456928522296</td>\n",
              "    </tr>\n",
              "    <tr>\n",
              "      <th>28</th>\n",
              "      <td>28</td>\n",
              "      <td>2527.876734664354986186824562</td>\n",
              "      <td>571.9662253872527397952334173</td>\n",
              "      <td>1955.910509277102246391591145</td>\n",
              "      <td>16735.20625175138305969172599</td>\n",
              "      <td>579704.6576811494434464606385</td>\n",
              "    </tr>\n",
              "    <tr>\n",
              "      <th>29</th>\n",
              "      <td>29</td>\n",
              "      <td>2527.876734664354986186824562</td>\n",
              "      <td>570.0429133864635893542848737</td>\n",
              "      <td>1957.833821277891396832539688</td>\n",
              "      <td>17305.24916513784664904601086</td>\n",
              "      <td>577746.8238598715520496280988</td>\n",
              "    </tr>\n",
              "    <tr>\n",
              "      <th>30</th>\n",
              "      <td>30</td>\n",
              "      <td>2527.876734664354986186824562</td>\n",
              "      <td>568.1177101288736629155023764</td>\n",
              "      <td>1959.759024535481323271322186</td>\n",
              "      <td>17873.36687526672031196151324</td>\n",
              "      <td>575787.0648353360707263567766</td>\n",
              "    </tr>\n",
              "    <tr>\n",
              "      <th>31</th>\n",
              "      <td>31</td>\n",
              "      <td>2527.876734664354986186824562</td>\n",
              "      <td>566.1906137547471063824881576</td>\n",
              "      <td>1961.686120909607879804336404</td>\n",
              "      <td>18439.55748902146741834400140</td>\n",
              "      <td>573825.3787144264628465524402</td>\n",
              "    </tr>\n",
              "    <tr>\n",
              "      <th>32</th>\n",
              "      <td>32</td>\n",
              "      <td>2527.876734664354986186824562</td>\n",
              "      <td>564.2616224025193254023163169</td>\n",
              "      <td>1963.615112261835660784508245</td>\n",
              "      <td>19003.81911142398674374631772</td>\n",
              "      <td>571861.7636021646271857679320</td>\n",
              "    </tr>\n",
              "    <tr>\n",
              "      <th>33</th>\n",
              "      <td>33</td>\n",
              "      <td>2527.876734664354986186824562</td>\n",
              "      <td>562.3307342087951871042805818</td>\n",
              "      <td>1965.546000455559799082543980</td>\n",
              "      <td>19566.14984563278193085059830</td>\n",
              "      <td>569896.2176017090673866853880</td>\n",
              "    </tr>\n",
              "    <tr>\n",
              "      <th>34</th>\n",
              "      <td>34</td>\n",
              "      <td>2527.876734664354986186824562</td>\n",
              "      <td>560.3979473083472200703518204</td>\n",
              "      <td>1967.478787356007766116472742</td>\n",
              "      <td>20126.54779294112915092095012</td>\n",
              "      <td>567928.7388143530596205689153</td>\n",
              "    </tr>\n",
              "    <tr>\n",
              "      <th>35</th>\n",
              "      <td>35</td>\n",
              "      <td>2527.876734664354986186824562</td>\n",
              "      <td>558.4632598341138125356064993</td>\n",
              "      <td>1969.413474830241173651218063</td>\n",
              "      <td>20685.01105277524296345655662</td>\n",
              "      <td>565959.3253395228184469176972</td>\n",
              "    </tr>\n",
              "    <tr>\n",
              "      <th>36</th>\n",
              "      <td>36</td>\n",
              "      <td>2527.876734664354986186824562</td>\n",
              "      <td>556.5266699171974088168855818</td>\n",
              "      <td>1971.350064747157577369938980</td>\n",
              "      <td>21241.53772269244037227344220</td>\n",
              "      <td>563987.9752747756608695477582</td>\n",
              "    </tr>\n",
              "  </tbody>\n",
              "</table>\n",
              "</div>"
            ],
            "text/plain": [
              "    number  ...                        balance\n",
              "0        0  ...                         633750\n",
              "1        1  ...  631845.3107653356449809783295\n",
              "2        2  ...  629938.7485862572033462866371\n",
              "3        3  ...  628030.3116210360012440862776\n",
              "4        4  ...  626119.9980261323316265842980\n",
              "5        5  ...  624207.8059561936734007240822\n",
              "6        6  ...  622293.7335640529088277075087\n",
              "7        7  ...  620377.7790007265391696266377\n",
              "8        8  ...  618459.9404154128985814812536\n",
              "9        9  ...  616540.2159554903662468568905\n",
              "10      10  ...  614618.6037665155767555362752\n",
              "11      11  ...  612695.1019922216287213154208\n",
              "12      12  ...  610769.7087745162916382939066\n",
              "13      13  ...  608842.4222534802109739071767\n",
              "14      14  ...  606913.2405673651114969669867\n",
              "15      15  ...  604982.1618525919988389744238\n",
              "16      16  ...  603049.1842437493592869682182\n",
              "17      17  ...  601114.3058735913578061693549\n",
              "18      18  ...  599177.5248730360342906812862\n",
              "19      19  ...  597238.8393711634980405033330\n",
              "20      20  ...  595298.2474952141204631131489\n",
              "21      21  ...  593355.7473705867259978724073\n",
              "22      22  ...  591411.3371208367812615081540\n",
              "23      23  ...  589465.0148676745824129205499\n",
              "24      24  ...  587516.7787309634407355660077\n",
              "25      25  ...  585566.6268287178664356630058\n",
              "26      26  ...  583614.5572771017506544661374\n",
              "27      27  ...  581660.5681904265456928522296\n",
              "28      28  ...  579704.6576811494434464606385\n",
              "29      29  ...  577746.8238598715520496280988\n",
              "30      30  ...  575787.0648353360707263567766\n",
              "31      31  ...  573825.3787144264628465524402\n",
              "32      32  ...  571861.7636021646271857679320\n",
              "33      33  ...  569896.2176017090673866853880\n",
              "34      34  ...  567928.7388143530596205689153\n",
              "35      35  ...  565959.3253395228184469176972\n",
              "36      36  ...  563987.9752747756608695477582\n",
              "\n",
              "[37 rows x 6 columns]"
            ]
          },
          "metadata": {
            "tags": []
          },
          "execution_count": 17
        }
      ]
    },
    {
      "cell_type": "code",
      "metadata": {
        "execution": {
          "iopub.execute_input": "2021-07-23T10:49:25.061679Z",
          "iopub.status.busy": "2021-07-23T10:49:25.061519Z",
          "iopub.status.idle": "2021-07-23T10:49:25.065829Z",
          "shell.execute_reply": "2021-07-23T10:49:25.065310Z",
          "shell.execute_reply.started": "2021-07-23T10:49:25.061660Z"
        },
        "tags": [],
        "colab": {
          "base_uri": "https://localhost:8080/"
        },
        "id": "6ae223be-96cf-402d-bdda-88df8414e938",
        "outputId": "5c45bb2f-236f-4afc-abe7-0c6e1a820f82"
      },
      "source": [
        "loan.summarize"
      ],
      "id": "6ae223be-96cf-402d-bdda-88df8414e938",
      "execution_count": null,
      "outputs": [
        {
          "output_type": "stream",
          "text": [
            "Original Balance:         $    633,750\n",
            "Interest Rate:             0.01179999999999999937827510621 %\n",
            "APY:                              1.19 %\n",
            "APR:                              1.18 %\n",
            "Term:                               24 years\n",
            "Monthly Payment:          $    2527.88\n",
            "\n",
            "Total principal payments: $ 633,750.00\n",
            "Total interest payments:  $  94,278.50\n",
            "Total payments:           $ 728,028.50\n",
            "Interest to principal:            14.9 %\n",
            "Years to pay:                     24.0\n"
          ],
          "name": "stdout"
        }
      ]
    },
    {
      "cell_type": "code",
      "metadata": {
        "colab": {
          "base_uri": "https://localhost:8080/"
        },
        "id": "n72Yp18qDPgD",
        "outputId": "fa32bdd5-b2bc-4b7e-c912-1638c27ad635"
      },
      "source": [
        "!pip install numpy-financial"
      ],
      "id": "n72Yp18qDPgD",
      "execution_count": null,
      "outputs": [
        {
          "output_type": "stream",
          "text": [
            "Collecting numpy-financial\n",
            "  Downloading numpy_financial-1.0.0-py3-none-any.whl (14 kB)\n",
            "Requirement already satisfied: numpy>=1.15 in /usr/local/lib/python3.7/dist-packages (from numpy-financial) (1.19.5)\n",
            "Installing collected packages: numpy-financial\n",
            "Successfully installed numpy-financial-1.0.0\n"
          ],
          "name": "stdout"
        }
      ]
    },
    {
      "cell_type": "markdown",
      "metadata": {
        "id": "vINR19IaE75e"
      },
      "source": [
        "# By package numpy"
      ],
      "id": "vINR19IaE75e"
    },
    {
      "cell_type": "code",
      "metadata": {
        "id": "iDN-s9_UDCVg"
      },
      "source": [
        "import numpy_financial as npf"
      ],
      "id": "iDN-s9_UDCVg",
      "execution_count": null,
      "outputs": []
    },
    {
      "cell_type": "code",
      "metadata": {
        "colab": {
          "base_uri": "https://localhost:8080/"
        },
        "id": "QBnnu4tTDVvz",
        "outputId": "3d55810b-f4d4-42ce-8cca-6c3d7914672b"
      },
      "source": [
        "npf.pmt(0.0118/12, 24*12,-633750)"
      ],
      "id": "QBnnu4tTDVvz",
      "execution_count": null,
      "outputs": [
        {
          "output_type": "execute_result",
          "data": {
            "text/plain": [
              "2527.8767346643485"
            ]
          },
          "metadata": {
            "tags": []
          },
          "execution_count": 29
        }
      ]
    },
    {
      "cell_type": "markdown",
      "metadata": {
        "execution": {
          "iopub.execute_input": "2021-07-23T07:47:45.817338Z",
          "iopub.status.busy": "2021-07-23T07:47:45.817118Z",
          "iopub.status.idle": "2021-07-23T07:47:45.820331Z",
          "shell.execute_reply": "2021-07-23T07:47:45.819633Z",
          "shell.execute_reply.started": "2021-07-23T07:47:45.817317Z"
        },
        "id": "edad8d94-b61c-4531-9b93-5591293eea36"
      },
      "source": [
        "# Real interest per year"
      ],
      "id": "edad8d94-b61c-4531-9b93-5591293eea36"
    },
    {
      "cell_type": "code",
      "metadata": {
        "execution": {
          "iopub.execute_input": "2021-07-23T10:49:25.066836Z",
          "iopub.status.busy": "2021-07-23T10:49:25.066678Z",
          "iopub.status.idle": "2021-07-23T10:49:25.070924Z",
          "shell.execute_reply": "2021-07-23T10:49:25.070351Z",
          "shell.execute_reply.started": "2021-07-23T10:49:25.066817Z"
        },
        "tags": [],
        "colab": {
          "base_uri": "https://localhost:8080/",
          "height": 37
        },
        "id": "93e68155-f704-4bdc-a536-404d01e39df3",
        "outputId": "8eccada4-46c8-495f-a2d9-a1fe749dbc85"
      },
      "source": [
        "(1 + r.subs(values)) ** 12 - 1"
      ],
      "id": "93e68155-f704-4bdc-a536-404d01e39df3",
      "execution_count": null,
      "outputs": [
        {
          "output_type": "execute_result",
          "data": {
            "text/latex": "$\\displaystyle 0.0118640279791931$",
            "text/plain": [
              "0.0118640279791931"
            ]
          },
          "metadata": {
            "tags": []
          },
          "execution_count": 19
        }
      ]
    },
    {
      "cell_type": "code",
      "metadata": {
        "id": "YTBMG7IQ_7Si"
      },
      "source": [],
      "id": "YTBMG7IQ_7Si",
      "execution_count": null,
      "outputs": []
    }
  ]
}